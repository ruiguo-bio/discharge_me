{
 "cells": [
  {
   "cell_type": "markdown",
   "metadata": {},
   "source": [
    "\n",
    "# QUB-Cirdan at \"Discharge Me!\": Zero-Shot Discharge Letter Generation by Open-Source LLM\n",
    "\n",
    "More information about the challenge can be found on the [Discharge Me! Challenge FAQ page](https://stanford-aimi.github.io/discharge-me/#faq).\n",
    "\n",
    "---\n"
   ]
  },
  {
   "cell_type": "markdown",
   "metadata": {},
   "source": [
    "## Overview\n",
    "\n",
    "This repository hosts the solution to the \"Discharge Me!\" challenge, which focuses on generating sections of discharge summaries from the MIMIC-IV dataset. The corresponding paper is available on [ACL](https://aclanthology.org/2024.bionlp-1.58/).\n",
    "\n",
    "The main objective is to automatically generate the **\"Brief Hospital Course\"** and **\"Discharge Instructions\"** sections.\n",
    "\n",
    "---\n"
   ]
  },
  {
   "cell_type": "markdown",
   "metadata": {},
   "source": [
    "\n",
    "## Usage\n",
    "\n",
    "Ensure Python is installed along with the necessary dependencies, including:\n",
    "- `langchain`\n",
    "- `pandas`\n",
    "- `ollama`\n",
    "\n",
    "The file path used in those files should be adapted to your file path.\n",
    "\n",
    "### Steps:\n",
    "1. Run the `aggregate_discharge.py` script to augment the discharge summary table.\n",
    "2. Run the `discharge_dataset.py` script to process the discharge summaries.\n",
    "3. Run the `generation.py` script to generate the missing sections in the discharge summaries.\n",
    "\n",
    "The Jupyter notebook `discharge_me_analysis.ipynb` can be used to predict the word count of the missing sections, which is not the preferred way in the final paper.\n"
   ]
  },
  {
   "cell_type": "markdown",
   "metadata": {},
   "source": [
    "## Scripts\n",
    "\n",
    "The paper section **\"Dataset Exploration\"** is implemented in the following two scripts:\n",
    "\n",
    "### `aggregate_discharge.py`\n",
    "\n",
    "This script augments the discharge summary table by integrating other relevant tables from the MIMIC-IV dataset, providing a fuller context and background for each patient’s stay.\n",
    "\n",
    "#### Features:\n",
    "- Reads additional tables to augment the data.\n",
    "- Integrates multiple data sources to enhance the discharge summary.\n",
    "\n",
    "---"
   ]
  },
  {
   "cell_type": "code",
   "execution_count": 2,
   "metadata": {},
   "outputs": [
    {
     "name": "stdout",
     "output_type": "stream",
     "text": [
      "Loading MIMIC-IV data...\n",
      "Generating admission summaries...\n"
     ]
    },
    {
     "name": "stderr",
     "output_type": "stream",
     "text": [
      "100%|████████████████████████████████| 431231/431231 [00:08<00:00, 49275.08it/s]\n"
     ]
    },
    {
     "name": "stdout",
     "output_type": "stream",
     "text": [
      "Generating transfer summaries and durations...\n"
     ]
    },
    {
     "name": "stderr",
     "output_type": "stream",
     "text": [
      "100%|██████████████████████████████████| 431231/431231 [09:14<00:00, 777.80it/s]\n",
      "100%|██████████████████████████████████| 431231/431231 [07:19<00:00, 981.43it/s]\n"
     ]
    },
    {
     "name": "stdout",
     "output_type": "stream",
     "text": [
      "Generating diagnosis summaries...\n"
     ]
    },
    {
     "name": "stderr",
     "output_type": "stream",
     "text": [
      "100%|██████████████████████████████████| 430852/430852 [07:51<00:00, 913.64it/s]\n"
     ]
    },
    {
     "name": "stdout",
     "output_type": "stream",
     "text": [
      "Saving results to JSON files...\n",
      "Processing complete.\n"
     ]
    }
   ],
   "source": [
    "# the default input folder for the mimic file is \n",
    "# /mnt/datadisk/mimic/mimic-iv-2.2/hosp\n",
    "# That hosp module can be downloaded from mimic-ir dataset website\n",
    "%run aggregate_discharge.py"
   ]
  },
  {
   "cell_type": "markdown",
   "metadata": {},
   "source": [
    "The default output folder is /mnt/datadisk/mimic/discharge/dataset"
   ]
  },
  {
   "cell_type": "code",
   "execution_count": 3,
   "metadata": {},
   "outputs": [
    {
     "name": "stdout",
     "output_type": "stream",
     "text": [
      "total 294436\n",
      "-rw-rw-r-- 1 ktpuser ktpuser 168658120 Mar 26 16:34 diagnoses_dict.json\n",
      "-rw-rw-r-- 1 ktpuser ktpuser  64861400 Mar 26 16:34 patients_admissions_dict.json\n",
      "-rw-rw-r-- 1 ktpuser ktpuser  54916991 Mar 26 16:34 transfer_summary_dict.json\n",
      "-rw-rw-r-- 1 ktpuser ktpuser  13056095 Mar 26 16:34 transfer_total_duration_dict.json\n"
     ]
    }
   ],
   "source": [
    "!ls -l /mnt/datadisk/mimic/discharge/dataset"
   ]
  },
  {
   "cell_type": "markdown",
   "metadata": {},
   "source": [
    "### `discharge_dataset.py`\n",
    "\n",
    "Processes the discharge summaries by segmenting them into specific sections, truncating excessive content, and aggregating the results into a structured table.\n",
    "\n",
    "#### Features:\n",
    "- Segments discharge summaries into manageable parts.\n",
    "- Truncates sections that are overly verbose.\n",
    "- Aggregates sections to form a structured output table.\n",
    "\n",
    "---"
   ]
  },
  {
   "cell_type": "code",
   "execution_count": 5,
   "metadata": {},
   "outputs": [
    {
     "name": "stderr",
     "output_type": "stream",
     "text": [
      "Loading discharge CSV files...\n",
      "Loading discharge CSV files...\n",
      "Loading JSON dictionaries...\n",
      "Loading JSON dictionaries...\n",
      "100%|████████████████████████████████████| 68785/68785 [05:55<00:00, 193.70it/s]\n",
      "100%|████████████████████████████████████| 14719/14719 [01:15<00:00, 195.72it/s]\n",
      "100%|████████████████████████████████████| 14702/14702 [01:15<00:00, 195.91it/s]\n",
      "100%|████████████████████████████████████| 10962/10962 [00:55<00:00, 196.41it/s]\n",
      "Processing completed and files saved.\n",
      "Processing completed and files saved.\n"
     ]
    }
   ],
   "source": [
    "# The default input folder for this is /mnt/datadisk/mimic/discharge\n",
    "# The output folder is /mnt/datadisk/mimic/discharge/dataset\n",
    "%run discharge_dataset.py"
   ]
  },
  {
   "cell_type": "code",
   "execution_count": 1,
   "metadata": {},
   "outputs": [
    {
     "name": "stdout",
     "output_type": "stream",
     "text": [
      "total 1687664\n",
      "-rw-rw-r-- 1 ktpuser ktpuser  191602309 Mar 26 17:05 df_discharge_test_phase_1_segmented.csv\n",
      "-rw-rw-r-- 1 ktpuser ktpuser  147736281 Mar 26 17:05 df_discharge_test_phase_2_segmented.csv\n",
      "-rw-rw-r-- 1 ktpuser ktpuser 1087314911 Mar 26 17:04 df_discharge_train_segmented.csv\n",
      "-rw-rw-r-- 1 ktpuser ktpuser  168658120 Mar 26 16:34 diagnoses_dict.json\n",
      "-rw-rw-r-- 1 ktpuser ktpuser       7104 Mar 26 17:03 lengths_df_statistics.xlsx\n",
      "-rw-rw-r-- 1 ktpuser ktpuser   64861400 Mar 26 16:34 patients_admissions_dict.json\n",
      "-rw-rw-r-- 1 ktpuser ktpuser   54916991 Mar 26 16:34 transfer_summary_dict.json\n",
      "-rw-rw-r-- 1 ktpuser ktpuser   13056095 Mar 26 16:34 transfer_total_duration_dict.json\n"
     ]
    }
   ],
   "source": [
    "!ls -l /mnt/datadisk/mimic/discharge/dataset"
   ]
  },
  {
   "cell_type": "markdown",
   "metadata": {},
   "source": [
    "### `generation.py`\n",
    "\n",
    "Generates missing sections in the discharge summaries based on RAG and LLama3 (using Ollama to serve the llama3 model). Two prompt templates are curated for this purpose, and RAG retrieves a target section's word count as the target output's word count.\n",
    "\n",
    "#### Parameters:\n",
    "- `start_index`: The index of the first input to consider for a generation.\n",
    "- `end_index`: The total number of inputs to process for generation.\n",
    "- `section_type`: Type of section to generate (`1` for a brief hospital course, `0` for discharge instructions).\n",
    "- `dataset_dir`: Directory containing the segmented CSV files.\n",
    "- `result_dir`: Directory to save the generated results.\n",
    "\n",
    "---"
   ]
  },
  {
   "cell_type": "code",
   "execution_count": 6,
   "metadata": {},
   "outputs": [
    {
     "name": "stdout",
     "output_type": "stream",
     "text": [
      "Start index: 0\n",
      "End index: 3\n",
      "Generating Brief Hospital Course\n"
     ]
    },
    {
     "name": "stderr",
     "output_type": "stream",
     "text": [
      "/home/ktpuser/discharge_me/generation.py:298: FutureWarning: Setting an item of incompatible dtype is deprecated and will raise an error in a future version of pandas. Value '' has dtype incompatible with float64, please explicitly cast to a compatible dtype first.\n",
      "  df_discharge_train_segmented.fillna('', inplace=True)\n",
      "/home/ktpuser/discharge_me/generation.py:299: FutureWarning: Setting an item of incompatible dtype is deprecated and will raise an error in a future version of pandas. Value '' has dtype incompatible with float64, please explicitly cast to a compatible dtype first.\n",
      "  df_discharge_test_phase_2_segmented.fillna('', inplace=True)\n",
      "/anaconda/envs/py3.11/lib/python3.11/site-packages/huggingface_hub/file_download.py:1132: FutureWarning: `resume_download` is deprecated and will be removed in version 1.0.0. Downloads always resume when possible. If you want to force a new download, use `force_download=True`.\n",
      "  warnings.warn(\n",
      "Processing:   0%|                                                   | 0/3 [00:00<?, ?it/s]"
     ]
    },
    {
     "name": "stdout",
     "output_type": "stream",
     "text": [
      "Processing index 0\n"
     ]
    },
    {
     "name": "stderr",
     "output_type": "stream",
     "text": [
      "Processing:  33%|██████████████▎                            | 1/3 [00:17<00:35, 17.86s/it]"
     ]
    },
    {
     "name": "stdout",
     "output_type": "stream",
     "text": [
      "Data saved to file: /mnt/datadisk/mimic/discharge/result/bhc_0_3.json\n",
      "Time taken to process index 0: 17.85502529144287 seconds\n",
      "Processing index 1\n"
     ]
    },
    {
     "name": "stderr",
     "output_type": "stream",
     "text": [
      "Processing:  67%|████████████████████████████▋              | 2/3 [00:36<00:18, 18.15s/it]"
     ]
    },
    {
     "name": "stdout",
     "output_type": "stream",
     "text": [
      "Data saved to file: /mnt/datadisk/mimic/discharge/result/bhc_0_3.json\n",
      "Time taken to process index 1: 18.350970029830933 seconds\n",
      "Processing index 2\n"
     ]
    },
    {
     "name": "stderr",
     "output_type": "stream",
     "text": [
      "Processing: 100%|███████████████████████████████████████████| 3/3 [00:51<00:00, 17.18s/it]"
     ]
    },
    {
     "name": "stdout",
     "output_type": "stream",
     "text": [
      "Data saved to file: /mnt/datadisk/mimic/discharge/result/bhc_0_3.json\n",
      "Time taken to process index 2: 15.334206342697144 seconds\n"
     ]
    },
    {
     "name": "stderr",
     "output_type": "stream",
     "text": [
      "\n"
     ]
    }
   ],
   "source": [
    "# run for three patient only\n",
    "%run generation.py --start_index 0 --end_index 3 --bhc 1"
   ]
  },
  {
   "cell_type": "code",
   "execution_count": 13,
   "metadata": {},
   "outputs": [],
   "source": [
    "# read /mnt/datadisk/mimic/discharge/result/bhc_0_3.json\n",
    "import json\n",
    "with open('/mnt/datadisk/mimic/discharge/result/bhc_0_3.json') as f:\n",
    "    data = json.load(f)"
   ]
  },
  {
   "cell_type": "code",
   "execution_count": 14,
   "metadata": {},
   "outputs": [
    {
     "data": {
      "text/plain": [
       "{'0': [24962904,\n",
       "  'Ms. ___ was a 76-year-old BLACK/AFRICAN AMERICAN female admitted to the emergency room at ___ with a chief complaint of shortness of breath, cough, and wheezing. She had a history of COPD on home O2, atrial fibrillation on apixaban, hypertension, CAD, and hyperlipidemia. \\n# Active Issues \\nMs. ___ presented with symptoms of acute exacerbation of COPD, including increased cough productive of red-tinged sputum, wheezing, and shortness of breath. Initial vital signs showed limited air movement with wheezing bilaterally. Laboratory results revealed normal white blood cell count, hemoglobin, and platelet count. Imaging studies, including a CXR, showed mild basilar atelectasis without definite focal consolidation. \\n- She was initially treated with Duonebs and solumedrol 125mg IV in the emergency department. - Her oxygen flow was increased to 4L without significant improvement in symptoms. - She received tiotropium IH, theophylline, and Advair IH as prescribed at home. \\n# Transitional Issues \\nUpon arrival on the floor, Ms. ___ reported improved breathing with increased oxygen flow. Recommendations for post-discharge care included continuation of her home medications, including albuterol IH, ipratropium nebs, tiotropium IH, theophylline, and Advair IH. Follow-up appointments were scheduled to monitor her condition and adjust her medication regimen as needed. \\n# Additional Notes \\nMs. ___ had a significant medical history, including COPD/Asthma on home 2L O2, atypical chest pain, hypertension, hyperlipidemia, osteoarthritis, atrial fibrillation on apixaban, anxiety, cervical radiculitis, and peripheral vascular disease s/p bilateral iliac stents. Her recent admission for dyspnea was thought to be secondary to steroid taper for a COPD exacerbation with a component of anxiety, rather than an acute COPD exacerbation.',\n",
       "  \"Brief Hospital Course:\\nMs. ___ is a ___ female with history of \\nCOPD on home O2, atrial fibrillation on apixaban, hypertension, \\nCAD, and hyperlipidemia who presents with shortness of breath, \\ncough, and wheezing for one day. Pt recently DC'd from hospital \\nfor dyspnea, treated only w/nebs and steroids as not thought ___ \\ntrue COPD exacerbation, c/f anxiety component. Pt re-admitted \\nw/similar Sx, thought ___ COPD exacerbation, received nebs, \\nsteroids, azithromycin. Pt's wheezing, cough, SOB improved \\nshortly after admission, O2 titrated down & satting well on 2L \\nin mid-90s which is baseline. Evaluated by ___, recommended DC to \\npulmonary rehab, pt was agreeable. \\n\\nACTIVE ISSUES\\n=================\\n# Shortness of Breath: Patient with history of COPD and recent \\nadmission for dyspnea in the setting of steroid taper. Her \\nsymptoms on presentation were consistent with severe COPD given \\ndiffuse wheezing and poor air movement. She likely had an \\nexacerbation in the setting of a decrease in her steroids. There \\nmay also be a component of anxiety. She underwent CT last \\nadmission that was negative for infections such as ___. She was \\ncontinued on home spiriva, theophylline, advair. She was started \\non standing duonebs q6h and albuterol q2h prn and prednisone was \\nstarted at 40mg daily with slow taper. She was also given \\nazithromycin to complete 5 day course. She had improvement in \\nher wheezing and returned to baseline O2 requirement after 48 \\nhours. She was seen by ___ who felt that she would benefit from \\ndischarge to inpatient pulmonary rehabilitation program. On DC \\nto ___ rehab, recommended continued Prendisone 40mg \\ndaily for 1x week with slow taper by 5mg every 5 days. ___ also \\nconsider starting bactrim ppx with extended duration of steroids \\nif unable to wean less than 20mg qd. Will also f/u as outpatient \\nwith pulm.\\n\\nCHRONIC ISSUES: \\n==================\\n# Anxiety/Insomnia: Continued home lorazepam. Consider starting \\nSRRI as an outpatient. \\n# Atrial Fibrillation: Continued dilt for rate control and \\napixaban for anticoagulation.\\n# Hypertension: Continued home imdur, hydrochlorothiazide, and \\ndiltiazem.\\n# CAD: Cardiac catheterization in ___ without evidence of \\nsignificant stenosis of coronaries. ECHO on ___ with EF > \\n55% and no regional or global wall motion abnormalities. \\nContinued home aspirin and atorvastatin.\\n# Anemia: Continued home iron supplements.\\n\\nTRANSITIONAL ISSUES:\\n==========================\\n[] For pt's continued COPD exacerbations, recommend finishing 5d \\ncourse of Azithromycin, 250mg qd until ___\\n[] Recommend extended prednisone taper for pt, 5d 40mg \\nPrednisone (to finish ___ followed by 10mg taper every 5 days \\n(35mg from ___, 30mg ___, etc...). \\n[] Would consider PCP prophylaxis with ___ if unable to wean \\nprednisone to less than 20mg daily. \\n[] Pt's SOB may have an anxiety component, may benefit from \\nstarting SSRI in addition to home benzos already prescribed\\n\\n# CONTACT: Full Code\\n# CODE STATUS: ___ (husband/HCP) ___\\n \\n___ on Admission:\\nThe Preadmission Medication list is accurate and complete.\\n1. Acetaminophen 325 mg PO Q4H:PRN Pain \\n2. Apixaban 5 mg PO BID \\n3. Aspirin 81 mg PO DAILY \\n4. Atorvastatin 10 mg PO QPM \\n5. Diltiazem Extended-Release 240 mg PO BID \\n6. Docusate Sodium 100 mg PO BID \\n7. Dorzolamide 2% Ophth. Soln. 1 DROP BOTH EYES BID \\n8. Ferrous Sulfate 325 mg PO DAILY \\n9. Fluticasone Propionate NASAL 2 SPRY NU DAILY:PRN allergies \\n10. Hydrochlorothiazide 50 mg PO DAILY \\n11. Isosorbide Mononitrate (Extended Release) 240 mg PO DAILY \\n12. Latanoprost 0.005% Ophth. Soln. 1 DROP BOTH EYES QHS \\n13. Multivitamins 1 TAB PO DAILY \\n14. PredniSONE 10 mg PO DAILY \\n15. Ranitidine 300 mg PO DAILY \\n16. Theophylline SR 300 mg PO BID \\n17. Tiotropium Bromide 1 CAP IH DAILY \\n18. Ipratropium Bromide Neb 1 NEB IH Q6H:PRN Wheezing \\n19. cod liver oil 1 capsule  oral BID \\n20. Calcitrate-Vitamin D (calcium citrate-vitamin D3) 315 mg - \\n200 units  oral DAILY \\n21. albuterol sulfate 90 mcg/actuation inhalation Q4H \\n22. Fluticasone-Salmeterol Diskus (500/50)  1 INH IH BID \\n23. Lorazepam 0.5 mg PO Q8H:PRN Anxiety \\n24. Guaifenesin ___ mL PO Q4H:PRN cough \\n\\n \\n\"],\n",
       " '1': [22774359,\n",
       "  '___ (Patient Name) is a 73-year-old male admitted to FICU on ___ with neutropenic fever, SVT, and hypotension. He has a significant past medical history of stage IV Hodgkins c1d10 of ABVD, systemic sarcoidosis on high-dose steroids, IBD, OSA w/ CPAP, ITP s/p splenectomy, prior SVT, and recent diarrhea attributed to chemotherapy. \\n# Active Issues \\nDuring his hospital stay, ___ was treated for neutropenic fever with vancomycin and cefepime. He triggered twice in the ED, once for tachycardia requiring esmolol, and again for SVT, which resolved spontaneously without intervention. His blood pressure dropped to __ systolic during one episode of SVT, prompting the placement of a CVL (RIJ) and administration of neo-pressure support. Stress dose steroids were also given due to his immunocompromised state. \\n- Key actions: \\n\\t+ Initial management included 2L NS and lactate normalization. \\t+ Tamiflu was held off due to discussion with BMT fellow. \\t+ EKG revealed AVNRT, which resolved spontaneously without intervention. \\t+ CVL (RIJ) was placed during placement of a central venous line. \\n# Imaging \\nImaging studies included CXR, CT chest w/o contrast, and past radiographs. The findings were significant for: \\n- Left basilar atelectasis and scarring. - Subtle focal patchy opacity in the right lateral lower chest, which could represent atelectasis/scarring or a small focus of infection. - Persistent moderate compression of multiple vertebral bodies. \\n# Additional Notes \\n___ has a complex medical history with multiple comorbidities. His recent diarrhea is attributed to chemotherapy, and his neutropenic fever is being managed with antibiotics. He requires continued monitoring for potential complications related to his immunocompromised state and sarcoidosis. A port will be placed on ___.',\n",
       "  \"Brief Hospital Course:\\n___ male with h/o Hodgkin's lymphoma C1D17 ABVD, sarcoidosis, \\nOSA on CPAP, h/o AVNRT, presented with neutropenic fever and \\nSVT.\\n\\nMICU Course:  \\n============\\nPt. was initially admitted to the MICU for hemodynamic \\ninstability requiring pressors (levo) in the setting of presumed \\nneutropenic fever and sepsis.  Pt.'s hemodynamics quickly \\nimproved once starting cefepime/vancomycin with fluid \\nresuscitation.  He was also noted to have a downtrending \\nlactate.  He was quickly weaned off of pressors and transferred \\nto the floor.\\n\\nFloor Course:\\n=============\\n# Neutropenic fever, no clear source identified: p/w T102.2 at \\nhome, initially met ___ SIRS criteria. lactate 3.2 on admisison, \\nresolved s/p fluid resuscitation. fever quickly resolved the day \\nafter admission. vanc/cefepime d/c'd ___ and ___, respectively, \\nwithout new fever. Pt finished a course of levofloxacin for \\ncommunity acquired pneumonia, also w/o recurrence of fever and \\nno futher pulmonary symptoms.  Course notable for new \\nleukocytosis with watery diarrhea, c. diff ordered, but no BM \\nsince. stool culture negative, O&P negative. Leukocytosis likely \\nrelated to underlying malignancy. Culture with negative \\nrespiratory virus studies, negative urine culture, Blood cx \\nNGTD.  CT negative for pneumonia. \\n\\n# AVNRT: Pt presented with reported (ED EKG not recovered) \\nSVT/AVNRT to 130s with decreased BP x 2, spontaneously resolved \\nin the ED.  Has h/o 2 AVNRT per ___ cardiology consult note. \\n  At that time they did not suspect cardiac sarcoid as a \\ncausative agent, based on TTE/EKG. Catheter-ablation was \\ndiscussed but pt declined and pt not currently a candidate given \\nimmunocompromised state. Beta-blockers were advised; pt did not \\nrespond to esmolol gtt in ED. Initial cardiology impression was \\nthat the tachycardia may be more related to presentation of \\nSIRS. Pt was noted to have another episode of AVNRT during the \\nhospital stay with HR to 140.  The AVNRT once again \\nspontaneously resolved. Pt was restarted on home dose of \\nmetoprolol in short-acting forms once pt's BP improved with no \\nfurther episodes of AVNRT noted.\\n\\n# Port placement c/b bleed - pt received port placement ___. He \\nwas noted to have oozing from dressing site post procedure day \\n1. Prophylactic dosing of heparin was discontinued given \\nisolated PTT elevation.  His PTT normalized.  Pressure dressing \\nwas placed on the port site.  Interventional radiology \\nre-examined the port and noted small bleeding vessel underneath \\nthe port, which was cauterized by ___. Pt was monitored for \\n24hours afterwards with no re-bleeding.  Port was ok to access \\nper ___.\\n \\n# Hodgkin's Lymphoma: stage IV. admitted in C1 of ABVD .Most \\nrecent PET CT scan on ___ showed 1) hilar, mesenteric, and \\nRP LAD; 2)New scattered FDG-avid foci in the liver and pancreas. \\n3) New focus of FDG-avidity in the L2 vertebral body. Received \\nD1 of C1 of ABVD on ___. Immuran stopped and PSE dose \\nreduced to 30mg/day from 40mg/day. ___: PSE dose reduced to \\n25mg/day, but increased to 30mg/day on ___. PFT obtained, which \\nshowed reduced diffusing capacity. Bleomycin was therefore held. \\n ECHO was obtained with good EF and no wall motion \\nabnormalities.  Pt received AVD in house prior to discharge. Pt \\nwas continued on Fluconazole 400 mg PO Q24H, Acyclovir 400 mg PO \\nQ8H, and Sulfameth/Trimethoprim SS 1 TAB PO DAILY for \\nprophylaxis.\\n\\n# Normocytic Anemia: Hct stable this am. No gross signs of \\nbleeding on transfer to floor. decrease in hct initially may be \\nrelated to dilutional effect in the setting of fluid \\nresuscitation - though pt did not experience similar decrease \\nhis other cell lines.  Pt remains asymptomatic in regards to his \\nanemia. no dizziness/light headedness or palpitation.  His \\nhgb/hct remained stable and did not require transfusion.\\n\\n# Sarcoidosis: thought to involve skin, gut, eyes and lungs, and \\npresumed neurosarcoidosis in the form of headaches. Followed by \\nrheumatology and pulmonary service for ___ years. In this time, \\nhe has been off steroids only for ~1 month.  s/p stress dose \\nsteroid in the ED for possible iatrogenic adrenal suppression in \\nthe settingn of hypotension. Pt was restarted on prednisone 30mg \\nPO daily, and remained stable on regimen.\\n\\n# Depression: no SI/HI on admission. stable on home Fluoxetine \\n40 mg PO DAILY \\n \\n# HLD: stable on Simvastatin 20 mg PO DAILY \\n \\n# OSA: stable on CPAP at night  \\n\\n \\n\"],\n",
       " '2': [29323205,\n",
       "  \"The patient, a 73-year-old African American female, was admitted to the hospital through the emergency department on ___ for evaluation of left leg weakness and frequent falls. She has a significant past medical history, including multiple strokes, hypertension, hyperlipidemia, prior myocardial infarction, colon cancer, and chronic tobacco use. \\n# Active Issues: \\n- The patient presented with a 4-week history of left leg weakness, which is gradual in onset and stable. She requires assistance to get up from chairs or off the toilet. - She has experienced frequent falls (5 in the last week) while using her cane, often pivoting and landing on her bottom without head strikes or loss of consciousness. - The patient also reported urinary and fecal incontinence, which is a chronic issue for her. \\n# Chronic Issues: \\nThe patient's chronic conditions include hypertension, hyperlipidemia, prior myocardial infarction, colon cancer, and B12 deficiency. She was taking Plavix 75mg daily and rosuvastatin (Crestor) before admission. \\n- Notably, the patient missed some doses of atorvastatin since starting it. - Her past medical history also includes a prior paramedian pontine infarct, right-sided lenticulostriate territory infarct, and multiple strokes in the right posterior MCA/PCA watershed region. \\n# Additional Notes: \\nThe patient's MRI/MRA brain and neck showed punctate, likely subacute infarcts of the right frontal periventricular white matter, posterior limb of the right internal capsule or right thalamus, and right periatrial white matter. The exam was substantially motion limited.\",\n",
       "  'Brief Hospital Course:\\n___ RH female with a PMHx of paramedian pontine infarct (___), \\nright-sided lenticulostriate territory infarct (___), multiple \\nstrokes in the right posterior MCA/PCA watershed region (thought \\nto be cardioembolic but no source identified, ___ \\nPlavix and ASA, HTN, HLD, prior MI, colon cancer s/p resection \\nand chemotherapy in ___, extensive tobacco use, recent DM \\ndiagnosis, and recent diagnosis of B12 deficiency presents with \\n4 week hx of progressively worsening left leg weakness and \\nfalls. On exam she had no signs of neuropathy, intact sensation \\nto light touch, temperature and Pin Prick as well as intact \\nproprioception. CT Head with right caudate hypodensity of \\nindeterminate age, but appears subacute/chronic. MRI/MRA brain \\nand neck with punctate, likely subacute infarcts of the right \\nfrontal periventricular white matter, posterior limb of the \\nright internal capsule or right thalamus and right periatrial \\nwhite matter. \\nEtiology most likely secondary to known intracranial athero seen \\non imaging vs. small vessel disease. Patient already on \\nappropriate secondary stroke prophylaxis and thus no changes to \\nher medications were made. She was evaluated by physical therapy \\nwho recommended home ___.\\nStroke risk factors: LDL 48, A1C6.6 \\n\\nAHA/ASA Core Measures for Ischemic Stroke and Transient Ischemic \\nAttack\\n1. Dysphagia screening before any PO intake? (x) Yes, confirmed \\ndone - () Not confirmed  () No\\n2. DVT Prophylaxis administered? (x) Yes - () No\\n3. Antithrombotic therapy administered by end of hospital day 2? \\n(x) Yes - () No\\n4. LDL documented? (x) Yes (LDL =48 ) - () No\\n5. Intensive statin therapy administered? (simvastatin 80mg, \\nsimvastatin 80mg/ezetemibe 10mg, atorvastatin 40mg or 80 mg, \\nrosuvastatin 20mg or 40mg, for LDL > 100) (x) Yes - () No [if \\nLDL >100, reason not given: ]\\n6. Smoking cessation counseling given? (x) Yes - () No [reason \\n() non-smoker - () unable to participate]\\n7. Stroke education (personal modifiable risk factors, how to \\nactivate EMS for stroke, stroke warning signs and symptoms, \\nprescribed medications, need for followup) given (verbally or \\nwritten)? (x) Yes - () No\\n8. Assessment for rehabilitation or rehab services considered? \\n(x) Yes - () No\\n9. Discharged on statin therapy? (x) Yes - () No [if LDL >100, \\nreason not given: ]\\n10. Discharged on antithrombotic therapy? (x) Yes [Type: (x) \\nAntiplatelet - () Anticoagulation] - () No\\n11. Discharged on oral anticoagulation for patients with atrial \\nfibrillation/flutter? () Yes - () No - (x) N/A\\n\\n \\n']}"
      ]
     },
     "execution_count": 14,
     "metadata": {},
     "output_type": "execute_result"
    }
   ],
   "source": [
    "data"
   ]
  },
  {
   "cell_type": "code",
   "execution_count": 15,
   "metadata": {},
   "outputs": [
    {
     "name": "stdout",
     "output_type": "stream",
     "text": [
      "Start index: 0\n",
      "End index: 3\n",
      "Generating Discharge Instructions\n"
     ]
    },
    {
     "name": "stderr",
     "output_type": "stream",
     "text": [
      "/home/ktpuser/discharge_me/generation.py:298: FutureWarning: Setting an item of incompatible dtype is deprecated and will raise an error in a future version of pandas. Value '' has dtype incompatible with float64, please explicitly cast to a compatible dtype first.\n",
      "  df_discharge_train_segmented.fillna('', inplace=True)\n",
      "/home/ktpuser/discharge_me/generation.py:299: FutureWarning: Setting an item of incompatible dtype is deprecated and will raise an error in a future version of pandas. Value '' has dtype incompatible with float64, please explicitly cast to a compatible dtype first.\n",
      "  df_discharge_test_phase_2_segmented.fillna('', inplace=True)\n",
      "/anaconda/envs/py3.11/lib/python3.11/site-packages/huggingface_hub/file_download.py:1132: FutureWarning: `resume_download` is deprecated and will be removed in version 1.0.0. Downloads always resume when possible. If you want to force a new download, use `force_download=True`.\n",
      "  warnings.warn(\n",
      "Processing:   0%|                                                   | 0/3 [00:00<?, ?it/s]"
     ]
    },
    {
     "name": "stdout",
     "output_type": "stream",
     "text": [
      "Processing index 0\n"
     ]
    },
    {
     "name": "stderr",
     "output_type": "stream",
     "text": [
      "Processing:  33%|██████████████▎                            | 1/3 [00:32<01:04, 32.06s/it]"
     ]
    },
    {
     "name": "stdout",
     "output_type": "stream",
     "text": [
      "Data saved to file: /mnt/datadisk/mimic/discharge/result/di_0_3.json\n",
      "Time taken to process index 0: 32.05663800239563 seconds\n",
      "Processing index 1\n"
     ]
    },
    {
     "name": "stderr",
     "output_type": "stream",
     "text": [
      "Processing:  67%|████████████████████████████▋              | 2/3 [00:50<00:24, 24.27s/it]"
     ]
    },
    {
     "name": "stdout",
     "output_type": "stream",
     "text": [
      "Data saved to file: /mnt/datadisk/mimic/discharge/result/di_0_3.json\n",
      "Time taken to process index 1: 18.814332962036133 seconds\n",
      "Processing index 2\n"
     ]
    },
    {
     "name": "stderr",
     "output_type": "stream",
     "text": [
      "Processing: 100%|███████████████████████████████████████████| 3/3 [01:03<00:00, 21.29s/it]"
     ]
    },
    {
     "name": "stdout",
     "output_type": "stream",
     "text": [
      "Data saved to file: /mnt/datadisk/mimic/discharge/result/di_0_3.json\n",
      "Time taken to process index 2: 12.984682083129883 seconds\n"
     ]
    },
    {
     "name": "stderr",
     "output_type": "stream",
     "text": [
      "\n"
     ]
    }
   ],
   "source": [
    "# run for three patient only\n",
    "%run generation.py --start_index 0 --end_index 3 --bhc 0"
   ]
  },
  {
   "cell_type": "code",
   "execution_count": 17,
   "metadata": {},
   "outputs": [],
   "source": [
    "# read /mnt/datadisk/mimic/discharge/result/dis_0_3.json\n",
    "import json\n",
    "with open('/mnt/datadisk/mimic/discharge/result/di_0_3.json') as f:\n",
    "    data = json.load(f)"
   ]
  },
  {
   "cell_type": "code",
   "execution_count": 18,
   "metadata": {},
   "outputs": [
    {
     "data": {
      "text/plain": [
       "{'0': [24962904,\n",
       "  \"Dear Ms. ___, \\n\\nIt was a pleasure taking care of you at ___. \\nYou were admitted to our hospital due to shortness of breath, cough, and wheezing for one day, which worsened over time. Your symptoms are consistent with severe COPD exacerbation, likely triggered by a decrease in your steroids. You also had an anxiety component. Our team evaluated you and recommended discharge to inpatient pulmonary rehabilitation program. \\nDuring your hospital stay, we provided treatment with nebulizers, steroids, azithromycin, and oxygen therapy. Your wheezing, cough, and shortness of breath improved significantly, and you were able to return to baseline oxygen requirements. \\nWhen you go home, please continue taking the medications as prescribed: ___. Take the Azithromycin for another 4 days until ___ and Prednisone for 5 days at a dose of 40mg daily, tapered by 5mg every 5 days. We also recommend finishing your current course of Duonebs q6h and Albuterol q2h prn. \\nTo manage your COPD exacerbations, consider taking extended prednisone taper as instructed, or starting Bactrim ppx with an extended duration of steroids if unable to wean less than 20mg daily. For anxiety/insomnia, continue home Lorazepam and consider starting SRRI as an outpatient. \\nPlease follow up with your pulmonologist in ___ days to review your progress and adjust your medications as needed. Your pulmonary rehabilitation program will also be essential in helping you manage your COPD symptoms. \\nYour ___ Team \\n\\nWe wish you the best! \\nNote: I anonymized the patient's name, location, and date according to the instructions. I integrated medication information narratively without listing medications. I specified any medication changes, follow-up appointments, and additional care instructions using placeholders where details are needed.\",\n",
       "  'Discharge Instructions:\\nDear Ms. ___,\\n\\nYou were admitted to ___ after you developed \\nshortness of breath and wheezing at home shortly after your last \\ndischarge. You were treated for a COPD exacerbation and your \\nbreathing quickly got better. Our physical therapists evaluated \\nyou and recommended that you have a short stay at Pulmonary \\n___ before going home to improve your breathing. \\n\\nWe wish you all the best at rehab and send our condolences to \\nyour family on your recent loss.\\n\\nIt was truly a pleasure taking care of you.\\n\\nYour ___ Team\\n \\n'],\n",
       " '1': [22774359,\n",
       "  \"Dear Mr. _____ \\n\\nIt was a pleasure taking care of you at ___ Hospital during your recent hospital stay. \\nYou were admitted to our Emergency Department on October 8, 2175, with neutropenic fever and supraventricular tachycardia (SVT). You had been experiencing symptoms of fever, chills, and chest pain. After being stabilized in the Intensive Care Unit (ICU), you were transferred to the floor for further treatment. \\nDuring your hospital stay, we treated your neutropenic fever with antibiotics, and your SVT was managed with medication. We also performed several tests to identify the cause of your symptoms, including blood cultures, urine analysis, and imaging studies. Unfortunately, no clear source of infection was identified. \\nYou were diagnosed with stage IV Hodgkin's lymphoma and were receiving treatment with ABVD chemotherapy. We also treated your sarcoidosis with prednisone and monitored your condition closely. Additionally, we managed your anemia, depression, hypertension, obstructive sleep apnea (OSA), and seasonal allergies. \\nUpon discharge, you will be taking several medications to manage your conditions. You should continue to take Acyclovir 400 mg PO Q8H, Fluconazole 400 mg PO Q24H, Fluoxetine 40 mg PO DAILY, Prednisone 30 mg PO DAILY, Sulfameth/Trimethoprim SS 1 TAB PO DAILY, and Metoprolol Succinate XL 25 mg PO DAILY as directed. You should also restart your Filgrastim injections at home, taking 300 mcg SC Q24H until further instruction from our clinic. \\nIt is essential to follow up with our clinic on October ___ to review your progress and adjust your treatment plan as needed. You may experience some side effects while taking these medications, so please report any concerns or questions to your healthcare provider. \\nYou will need to make sure to take your medication as directed and attend all scheduled appointments. If you have any concerns or questions, please do not hesitate to reach out to our clinic. \\nWe wish you the best! \\nYour _______________ Team\",\n",
       "  'Discharge Instructions:\\nDear Mr. ___,\\n\\nIt has been our pleasure to be taking care of you.  You were \\nadmitted for neutropenic fever.  Your heart rate was initially \\nhigh and your blood pressure was initially low.  We treated you \\nwith antibiotics, and your fever has since resolved.  You were \\nalso seen by our cardiologists, who deemed that your initial \\nfast heart rate was related to the infection, and that there \\nwill be no changes needed for your heart medications.  You \\ntolerated chemotherapy this week well.  Please follow up with \\n___ clinic upcoming Thurday to further \\nevaluate your occassional dizziness while standing up.  You have \\n___ clinic scheduled on the same time for your \\nfollow-up.  Please also remember to take neupogen daily until \\nnext ___, and you will receive further \\ninstruction from the ___ clinic on ___.\\n \\n'],\n",
       " '2': [29323205,\n",
       "  'Dear ___, \\n\\nIt was a pleasure taking care of you at ___. \\nYou were admitted to our hospital with a history of multiple strokes, including a paramedian pontine infarct and right-sided lenticulostriate territory infarct. During your stay, we evaluated your condition and provided supportive care. You underwent imaging studies, including CT Head and MRI/MRA brain and neck, which showed punctate, likely subacute infarcts of the right frontal periventricular white matter, posterior limb of the right internal capsule or right thalamus, and right periatrial white matter. \\nUpon discharge, your condition is stable, and you are cleared to return home with service. We recommend that you continue taking your medications as directed: Aspirin 81 mg PO daily, Atorvastatin 80 mg PO at bedtime, Clopidogrel 75 mg PO daily, MetFORMIN (Glucophage) 500 mg PO daily, Oxybutynin 5 mg PO daily, and Vitamin D 1000 UNIT PO daily. \\nYou will need to follow up with your primary care physician for further management of your condition. We also recommend that you schedule a physical therapy evaluation at home as recommended by our team. \\nTo ensure a smooth recovery, please remember the following: \\n\\n* Take your medications exactly as directed \\n* Follow up with your primary care physician as scheduled \\n* Continue to work on your strength and mobility exercises as recommended by physical therapy \\n\\nWe wish you the best! \\nYour ___ Team',\n",
       "  'Discharge Instructions:\\nDear ___ were hospitalized due to symptoms of left leg weakness and \\nfalls resulting from an ACUTE ISCHEMIC STROKE, a condition where \\na blood vessel providing oxygen and nutrients to the brain is \\nblocked by a clot. The brain is the part of your body that \\ncontrols and directs all the other parts of your body, so damage \\nto the brain from being deprived of its blood supply can result \\nin a variety of symptoms.\\nStroke can have many different causes, so we assessed ___ for \\nmedical conditions that might raise your risk of having stroke. \\nIn order to prevent future strokes, we plan to modify those risk \\nfactors. Your risk factors are:\\nHTN\\natherosclerotic disease\\n\\nNo changes to your medications were made since ___ are already \\non the appropriate secondary stroke prevention.\\n\\nPlease take your other medications as prescribed.\\n\\nPlease follow up with Neurology and your primary care physician \\nas listed below.\\n\\nIf ___ experience any of the symptoms below, please seek \\nemergency medical attention by calling Emergency Medical \\nServices (dialing 911). In particular, since stroke can recur, \\nplease pay attention to the sudden onset and persistence of \\nthese symptoms:\\n- Sudden partial or complete loss of vision\\n- Sudden loss of the ability to speak words from your mouth\\n- Sudden loss of the ability to understand others speaking to \\n___\\n- Sudden weakness of one side of the body\\n- Sudden drooping of one side of the face\\n- Sudden loss of sensation of one side of the body\\n\\nSincerely,\\nYour ___ Neurology Team\\n\\n \\n']}"
      ]
     },
     "execution_count": 18,
     "metadata": {},
     "output_type": "execute_result"
    }
   ],
   "source": [
    "data"
   ]
  },
  {
   "cell_type": "code",
   "execution_count": null,
   "metadata": {},
   "outputs": [],
   "source": []
  }
 ],
 "metadata": {
  "kernelspec": {
   "display_name": "Python 3 (ipykernel)",
   "language": "python",
   "name": "python3"
  },
  "language_info": {
   "codemirror_mode": {
    "name": "ipython",
    "version": 3
   },
   "file_extension": ".py",
   "mimetype": "text/x-python",
   "name": "python",
   "nbconvert_exporter": "python",
   "pygments_lexer": "ipython3",
   "version": "3.11.7"
  }
 },
 "nbformat": 4,
 "nbformat_minor": 4
}
